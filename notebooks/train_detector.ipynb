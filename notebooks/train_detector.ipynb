{
 "cells": [
  {
   "cell_type": "markdown",
   "metadata": {},
   "source": [
    "# Vehicle Detection Model Training\n",
    "This notebook demonstrates training a YOLOv8 model for vehicle detection in traffic scenarios."
   ]
  },
  {
   "cell_type": "code",
   "execution_count": null,
   "metadata": {},
   "outputs": [],
   "source": [
    "# Import required libraries\n",
    "import cv2\n",
    "import numpy as np\n",
    "import matplotlib.pyplot as plt\n",
    "from ultralytics import YOLO\n",
    "import torch\n",
    "\n",
    "print(\"Environment setup complete\")\n",
    "print(f\"PyTorch version: {torch.__version__}\")\n",
    "print(f\"CUDA available: {torch.cuda.is_available()}\")"
   ]
  },
  {
   "cell_type": "markdown",
   "metadata": {},
   "source": [
    "## Load Pre-trained YOLOv8 Model"
   ]
  },
  {
   "cell_type": "code",
   "execution_count": null,
   "metadata": {},
   "outputs": [],
   "source": [
    "# Load a pre-trained YOLOv8 model\n",
    "model = YOLO('yolov8n.pt')  # nano version for faster inference\n",
    "\n",
    "# Vehicle classes we're interested in (COCO dataset classes)\n",
    "vehicle_classes = {\n",
    "    2: 'car',\n",
    "    3: 'motorcycle', \n",
    "    5: 'bus',\n",
    "    7: 'truck'\n",
    "}\n",
    "\n",
    "print(\"Model loaded successfully\")\n",
    "print(f\"Model classes: {list(vehicle_classes.values())}\")"
   ]
  },
  {
   "cell_type": "markdown",
   "metadata": {},
   "source": [
    "## Fine-tuning for Traffic Scenarios"
   ]
  },
  {
   "cell_type": "code",
   "execution_count": null,
   "metadata": {},
   "outputs": [],
   "source": [
    "# Configuration for fine-tuning\n",
    "training_config = {\n",
    "    'data': 'traffic_dataset.yaml',  # Custom dataset configuration\n",
    "    'epochs': 100,\n",
    "    'imgsz': 640,\n",
    "    'batch': 16,\n",
    "    'workers': 4,\n",
    "    'device': 'cuda' if torch.cuda.is_available() else 'cpu'\n",
    "}\n",
    "\n",
    "print(\"Training configuration:\")\n",
    "for key, value in training_config.items():\n",
    "    print(f\"  {key}: {value}\")"
   ]
  },
  {
   "cell_type": "code",
   "execution_count": null,
   "metadata": {},
   "outputs": [],
   "source": [
    "# Fine-tune the model (uncomment when you have training data)\n",
    "# results = model.train(**training_config)\n",
    "\n",
    "# For demo purposes, we'll use the pre-trained model\n",
    "print(\"Using pre-trained model for traffic detection\")"
   ]
  },
  {
   "cell_type": "markdown",
   "metadata": {},
   "source": [
    "## Test Vehicle Detection"
   ]
  },
  {
   "cell_type": "code",
   "execution_count": null,
   "metadata": {},
   "outputs": [],
   "source": [
    "def detect_vehicles(image_path):\n",
    "    \"\"\"\n",
    "    Detect vehicles in an image using YOLOv8\n",
    "    \"\"\"\n",
    "    # Run inference\n",
    "    results = model(image_path)\n",
    "    \n",
    "    # Extract vehicle detections\n",
    "    vehicle_detections = []\n",
    "    \n",
    "    for r in results:\n",
    "        boxes = r.boxes\n",
    "        if boxes is not None:\n",
    "            for box in boxes:\n",
    "                cls = int(box.cls)\n",
    "                if cls in vehicle_classes:\n",
    "                    conf = float(box.conf)\n",
    "                    if conf > 0.5:  # Confidence threshold\n",
    "                        vehicle_detections.append({\n",
    "                            'class': vehicle_classes[cls],\n",
    "                            'confidence': conf,\n",
    "                            'bbox': box.xyxy[0].tolist()\n",
    "                        })\n",
    "    \n",
    "    return vehicle_detections, results\n",
    "\n",
    "# Example usage (with a sample image)\n",
    "# detections, results = detect_vehicles('sample_traffic.jpg')\n",
    "# print(f\"Detected {len(detections)} vehicles\")\n",
    "\n",
    "print(\"Vehicle detection function ready\")"
   ]
  },
  {
   "cell_type": "markdown",
   "metadata": {},
   "source": [
    "## Model Evaluation and Metrics"
   ]
  },
  {
   "cell_type": "code",
   "execution_count": null,
   "metadata": {},
   "outputs": [],
   "source": [
    "# Evaluation metrics\n",
    "def calculate_metrics(detections, ground_truth):\n",
    "    \"\"\"\n",
    "    Calculate precision, recall, and F1-score\n",
    "    \"\"\"\n",
    "    # This would be implemented with actual ground truth data\n",
    "    pass\n",
    "\n",
    "# Performance optimization\n",
    "def optimize_model():\n",
    "    \"\"\"\n",
    "    Optimize model for deployment\n",
    "    \"\"\"\n",
    "    # Export to different formats\n",
    "    model.export(format='onnx')  # ONNX for cross-platform\n",
    "    model.export(format='torchscript')  # TorchScript for production\n",
    "    \n",
    "    print(\"Model exported successfully\")\n",
    "\n",
    "print(\"Evaluation and optimization functions ready\")"
   ]
  },
  {
   "cell_type": "markdown",
   "metadata": {},
   "source": [
    "## Save Trained Model"
   ]
  },
  {
   "cell_type": "code",
   "execution_count": null,
   "metadata": {},
   "outputs": [],
   "source": [
    "# Save the model for use in the traffic system\n",
    "model_save_path = '../models/checkpoints/traffic_detector.pt'\n",
    "\n",
    "# In a real training scenario, you would save the fine-tuned model\n",
    "# model.save(model_save_path)\n",
    "\n",
    "print(f\"Model ready to be saved to: {model_save_path}\")\n",
    "print(\"Training notebook complete!\")"
   ]
  }
 ],
 "metadata": {
  "kernelspec": {
   "display_name": "Python 3",
   "language": "python",
   "name": "python3"
  },
  "language_info": {
   "codemirror_mode": {
    "name": "ipython",
    "version": 3
   },
   "file_extension": ".py",
   "mimetype": "text/x-python",
   "name": "python",
   "nbconvert_exporter": "python",
   "pygments_lexer": "ipython3",
   "version": "3.11.0"
  }
 },
 "nbformat": 4,
 "nbformat_minor": 4
}